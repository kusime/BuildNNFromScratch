{
 "cells": [
  {
   "cell_type": "code",
   "execution_count": 6,
   "metadata": {},
   "outputs": [
    {
     "name": "stdout",
     "output_type": "stream",
     "text": [
      "[[ 1 -1]\n",
      " [-1  1]]\n",
      "[[False  True]\n",
      " [ True False]]\n"
     ]
    },
    {
     "data": {
      "text/plain": [
       "array([[1, 0],\n",
       "       [0, 1]])"
      ]
     },
     "execution_count": 6,
     "metadata": {},
     "output_type": "execute_result"
    }
   ],
   "source": [
    "import numpy as np\n",
    "class Relu:\n",
    "    def __init__(self):\n",
    "        self.mask = None\n",
    "    \n",
    "    def forward(self,x):\n",
    "        # 记录小于零的 tag 为 True\n",
    "        self.mask = (x <= 0)\n",
    "        # 复制\n",
    "        out = x.copy()\n",
    "        return out\n",
    "\n",
    "    def backward(self,dout):\n",
    "        dout[self.mask] = 0 \n",
    "        # 把所有标记的小于0 的点转化为0\n",
    "        dx = dout\n",
    "        return dx\n",
    "\n",
    "x = np.array([[1,-1],[-1,1]])\n",
    "mask =( x <=0)\n",
    "print(x)\n",
    "print(mask)\n",
    "x[mask] = 0\n",
    "x\n"
   ]
  },
  {
   "cell_type": "code",
   "execution_count": null,
   "metadata": {},
   "outputs": [],
   "source": [
    "class Sigmoid:\n",
    "    def __init__(self):\n",
    "        self.out = None\n",
    "    \n",
    "    def forward(self,x):\n",
    "        out = 1/(1+np.exp(-x)) # 计算sigmoid\n",
    "        self.out = out\n",
    "        return out\n",
    "\n",
    "    def backward(self,dout):\n",
    "        dx = dout * self.out * (1 - self.out)\n",
    "        return dx"
   ]
  },
  {
   "cell_type": "code",
   "execution_count": null,
   "metadata": {},
   "outputs": [],
   "source": [
    "class Affine:\n",
    "    def __init__(self,W,b):\n",
    "        self.W = W\n",
    "        self.b = b\n",
    "        self.x = None\n",
    "        self.dW = None\n",
    "        self.dB = None\n",
    "    def forward(self,x):\n",
    "        self.x = self.\n",
    "        out = np.dot(x,self.W) + self.b\n",
    "        return  out\n",
    "    def backward(self,dout):\n",
    "        dX = np.dot(dout,self.W.T)\n",
    "        self.dW = np.dot(self.x.T,dout)\n",
    "        self.db = np.sum(dout,axis=0)\n",
    "        return dX \n"
   ]
  },
  {
   "cell_type": "code",
   "execution_count": null,
   "metadata": {},
   "outputs": [],
   "source": [
    "def softmax(a):\n",
    "    c = np.max(a)\n",
    "    expa = np.exp(a - c)\n",
    "    # overflow avoid\n",
    "    sum_exp = np.sum(expa)\n",
    "    y = expa / sum_exp\n",
    "    return y\n",
    "\n",
    "def cross_entropy_error(pred,real):\n",
    "    # 就是重点关注 在正确的上面,是不是熵越小\n",
    "    # 还是符合 误差越大,这个数字就越大\n",
    "    delta = 1e-7 # avoid overflow\n",
    "    return -np.sum(real * np.log(pred+delta))\n",
    "\n",
    "class SoftmaxWithLoss:\n",
    "    def __init__(self):\n",
    "        self.loss = None\n",
    "        self.y = None\n",
    "        self.t = None # one-hot vector\n",
    "\n",
    "    def forward(self,x,t):\n",
    "        self.t = t\n",
    "        self.y = softmax(x)\n",
    "        self.loss = cross_entropy_error(self.y,self.t)\n",
    "        return self.loss\n",
    "    def backward(self,dout=1):\n",
    "        batch_size = self.t.shape[0]\n",
    "        dx = (self.y - self.t) / batch_size\n",
    "        return dx"
   ]
  }
 ],
 "metadata": {
  "kernelspec": {
   "display_name": "pytorch",
   "language": "python",
   "name": "python3"
  },
  "language_info": {
   "codemirror_mode": {
    "name": "ipython",
    "version": 3
   },
   "file_extension": ".py",
   "mimetype": "text/x-python",
   "name": "python",
   "nbconvert_exporter": "python",
   "pygments_lexer": "ipython3",
   "version": "3.9.16 (main, Jan 11 2023, 16:16:36) [MSC v.1916 64 bit (AMD64)]"
  },
  "orig_nbformat": 4,
  "vscode": {
   "interpreter": {
    "hash": "240bc028caeb8b02ff80d8aedfc61caf7a0e4db2770780d40c5b717508bae340"
   }
  }
 },
 "nbformat": 4,
 "nbformat_minor": 2
}
