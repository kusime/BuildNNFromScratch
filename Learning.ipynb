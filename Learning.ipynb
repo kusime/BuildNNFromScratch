{
 "cells": [
  {
   "attachments": {},
   "cell_type": "markdown",
   "metadata": {},
   "source": [
    "# 什么是神经网络的学习?\n",
    "\n",
    "比如说下面这一段代码,输入为[1,4],然后后面的全连接层后面用的softmax,转变为分类问题. 然后输出的两个概率就是神经网络对这个输入的理解. \n",
    "\n",
    "本质上,神经网络不对这些数据具有意义化,意义这个概念是人赋予的.,所以让神经网络学习本质上就是找矩阵,让神经网络内部的权重矩阵和偏置矩阵能够表达我们所希望的 \"映射\" ,神经网络这个架构,有能力表达很复杂的函数,这个函数就是可以用来解决分类问题和回归问题.所以接下来要学的就是如何通过数学工具来帮助我们找到这样合适的矩阵."
   ]
  },
  {
   "cell_type": "code",
   "execution_count": 2,
   "metadata": {},
   "outputs": [
    {
     "name": "stdout",
     "output_type": "stream",
     "text": [
      "[0.26124578 0.15173481 0.23233059 0.35468881]\n"
     ]
    }
   ],
   "source": [
    "import torch\n",
    "import numpy as np\n",
    "def init_network():\n",
    "    network = {}\n",
    "\n",
    "    network[\"W1\"] = torch.rand(size=(6,3)).numpy()\n",
    "    network[\"W2\"] = torch.rand(size=(3,2)).numpy()\n",
    "    network[\"W3\"] = torch.rand(size=(2,4)).numpy()\n",
    "\n",
    "    network['b1'] = torch.rand(size=(3,)).numpy()\n",
    "    network['b2'] = torch.rand(size=(2,)).numpy()\n",
    "    network['b3'] = torch.rand(size=(4,)).numpy()\n",
    "\n",
    "    return network\n",
    "def step_sigmoid(x):\n",
    "    return 1 / (1 + np.exp(-x))\n",
    "\n",
    "def identity_function(input):\n",
    "    # 恒等函数\n",
    "    return input\n",
    "\n",
    "def softmax_function(a):\n",
    "    c = np.max(a)\n",
    "    expa = np.exp(a - c)\n",
    "    # overflow avoid\n",
    "    sum_exp = np.sum(expa)\n",
    "    y = expa / sum_exp\n",
    "    return y\n",
    "\n",
    "\n",
    "def forward(network,input):\n",
    "    W1,W2,W3 = network['W1'],network['W2'],network['W3']\n",
    "    b1,b2,b3 = network['b1'],network['b2'],network['b3']\n",
    "\n",
    "    a1 = np.dot(input,W1) + b1\n",
    "    z1 = step_sigmoid(a1)\n",
    "\n",
    "    a2 = np.dot(z1,W2) + b2\n",
    "    z2 = step_sigmoid(a2)\n",
    "\n",
    "    a3 = np.dot(z2,W3) + b3\n",
    "\n",
    "    # y = identity_function(a3)\n",
    "    y = softmax_function(a3)\n",
    "    return y \n",
    "\n",
    "input = [1,4,1,3,5,7]\n",
    "network = init_network()\n",
    "output = forward(network,input)\n",
    "print(output)"
   ]
  },
  {
   "attachments": {},
   "cell_type": "markdown",
   "metadata": {},
   "source": [
    "# 特征量\n",
    "\n",
    "从输入数据到向量,能够用数字表达各种数据的一种表达. 找特征量是人为接入的.\n",
    "\n",
    "机器学习和神经网络的学习差别是,神经网络和人一样,直接学习图片的信息,而传统机器学习需要先转为特征量.\n",
    "\n",
    "# 神经网络的优点\n",
    "\n",
    "直接从数据本身出发,寻找一个模式.和人的思考相似."
   ]
  },
  {
   "attachments": {},
   "cell_type": "markdown",
   "metadata": {},
   "source": [
    "# 训练数据和测试数据\n",
    "\n",
    "训练数据,就是拿来寻找那个合适的参数的数据,也成为监督数据.\n",
    "\n",
    "追求的是模型的泛化能力. 是指处理未被观察过的数据.\n",
    "\n",
    "# 过拟合\n",
    "\n",
    "就是如果训练数据过于单一,那么参数就会只适用于这一套数据.\n",
    "\n",
    "# 损失函数\n",
    "\n",
    "神经网络以 某一个指标寻找最优权重参数,这个指标就是最优函数.\n",
    "神经网络通过某个指标表达现在的状态.\n"
   ]
  },
  {
   "cell_type": "code",
   "execution_count": 3,
   "metadata": {},
   "outputs": [
    {
     "data": {
      "text/plain": [
       "(array([0.26124579, 0.15173482, 0.2323306 , 0.35468879]), 0.24189620531250505)"
      ]
     },
     "execution_count": 3,
     "metadata": {},
     "output_type": "execute_result"
    }
   ],
   "source": [
    "# mean squared error\n",
    "\n",
    "def mean_squared_error(pred,real):\n",
    "    # 均方误差,越小就意味着分类约准确\n",
    "    # 通俗理解为两个向量之间的距离差距\n",
    "    return (1/len(pred)) * np.sum((pred-real)**2)\n",
    "\n",
    "real = [0,1,0,0]\n",
    "input = [0,1,1,6,8,3]\n",
    "pred =  forward(network,input)\n",
    "pred,mean_squared_error(pred,real) # 均方误差\n"
   ]
  },
  {
   "cell_type": "code",
   "execution_count": 4,
   "metadata": {},
   "outputs": [
    {
     "name": "stdout",
     "output_type": "stream",
     "text": [
      "[0.26124579 0.15173482 0.2323306  0.35468879] [0.26124564 0.15173472 0.23233067 0.35468898]\n"
     ]
    },
    {
     "data": {
      "text/plain": [
       "(1.8856202226190368, 1.8856209135548196)"
      ]
     },
     "execution_count": 4,
     "metadata": {},
     "output_type": "execute_result"
    }
   ],
   "source": [
    "# 交叉信息熵\n",
    "\n",
    "def cross_entropy_error(pred,real):\n",
    "    # 就是重点关注 在正确的上面,是不是熵越小\n",
    "    # 还是符合 误差越大,这个数字就越大\n",
    "    delta = 1e-7 # avoid overflow\n",
    "    return -np.sum(real * np.log(pred+delta))\n",
    "\n",
    "real = [0,1,0,0]\n",
    "input1 = [0,1,1,6,8,3]\n",
    "input2 = [4,244,24442,464,-428,455]\n",
    "pred1 =  forward(network,input1)\n",
    "pred2 =  forward(network,input2)\n",
    "print(pred1,pred2)\n",
    "cross_entropy_error(pred1,real),cross_entropy_error(pred2,real) # 均方误差\n"
   ]
  },
  {
   "cell_type": "code",
   "execution_count": 5,
   "metadata": {},
   "outputs": [
    {
     "data": {
      "text/plain": [
       "(-3.1699999999967865e-05, 6.107164109536711e-05)"
      ]
     },
     "execution_count": 5,
     "metadata": {},
     "output_type": "execute_result"
    }
   ],
   "source": [
    "0.51904581- 0.51907751  ,0.6557629318049996 - 0.6557018601639042"
   ]
  },
  {
   "attachments": {},
   "cell_type": "markdown",
   "metadata": {},
   "source": [
    "# mini batch 学习"
   ]
  },
  {
   "cell_type": "code",
   "execution_count": 6,
   "metadata": {},
   "outputs": [
    {
     "name": "stdout",
     "output_type": "stream",
     "text": [
      "[1 8 3 5]\n",
      "[0 2 6 7]\n"
     ]
    }
   ],
   "source": [
    "# random choice\n",
    "\n",
    "sources = [1,2,3,4,5,6,7,8,9,10,11]\n",
    "print(np.random.choice(sources,4))\n",
    "print(np.random.choice(10,4))"
   ]
  },
  {
   "cell_type": "code",
   "execution_count": 7,
   "metadata": {},
   "outputs": [
    {
     "name": "stdout",
     "output_type": "stream",
     "text": [
      "1 [[1. 2. 3. 4.]]\n"
     ]
    }
   ],
   "source": [
    "# flatten reshapes\n",
    "\n",
    "array1 = np.array([1,2,3,4. ])\n",
    "print(array1.ndim,array1.reshape(1,array1.size))"
   ]
  },
  {
   "cell_type": "code",
   "execution_count": 8,
   "metadata": {},
   "outputs": [
    {
     "data": {
      "image/png": "[encoded data removed]",
      "text/plain": [
       "<Figure size 640x480 with 1 Axes>"
      ]
     },
     "metadata": {},
     "output_type": "display_data"
    },
    {
     "name": "stdout",
     "output_type": "stream",
     "text": [
      "0.1999999999990898\n",
      "0.2999999999986347\n"
     ]
    }
   ],
   "source": [
    "# 中心差分求导\n",
    "\n",
    "def numerical_diff(func,x):\n",
    "    delta = 1e-4 \n",
    "    return (func(x+delta) - func(x-delta)) / (2 * delta)\n",
    "\n",
    "def function_1(x):\n",
    "    return 0.01 * (x **2) + 0.1 * x\n",
    "\n",
    "import matplotlib.pyplot as plt\n",
    "x = np.arange(0.0,20.0,0.1)\n",
    "y = function_1(x)\n",
    "plt.xlabel(\"x\")\n",
    "plt.ylabel(\"fx\")\n",
    "plt.plot(x,y)\n",
    "plt.show()\n",
    "\n",
    "print(numerical_diff(function_1,5))\n",
    "print(numerical_diff(function_1,10))\n",
    "\n"
   ]
  },
  {
   "attachments": {},
   "cell_type": "markdown",
   "metadata": {},
   "source": [
    "# 偏导数\n",
    "\n"
   ]
  },
  {
   "cell_type": "code",
   "execution_count": 9,
   "metadata": {},
   "outputs": [
    {
     "data": {
      "text/plain": [
       "(6.00000000000378, 7.999999999999119)"
      ]
     },
     "execution_count": 9,
     "metadata": {},
     "output_type": "execute_result"
    }
   ],
   "source": [
    "def function2(x):\n",
    "    return (x[0]) **2 +( x[1])**2\n",
    "\n",
    "def function2_x0(x0):# 在 x0 =3 x1 =4 的时候对 x0 求偏导\n",
    "    return  x0*x0 + 4 **2\n",
    "def function2_x1(x1):# 在 x0 =3 x1 =4 的时候对 x0 求偏导\n",
    "    return  3**2 + x1 *x1\n",
    "\n",
    "numerical_diff(function2_x0,3),numerical_diff(function2_x1,4)\n"
   ]
  },
  {
   "cell_type": "code",
   "execution_count": 10,
   "metadata": {},
   "outputs": [
    {
     "data": {
      "text/plain": [
       "array([6., 8.])"
      ]
     },
     "execution_count": 10,
     "metadata": {},
     "output_type": "execute_result"
    }
   ],
   "source": [
    "\n",
    "def numerical_gradient(func,input_points_array):\n",
    "    # 计算梯度,就是在输入维度的每个维度上求其导数\n",
    "    delta = 1e-4\n",
    "    tmp_shape = input_points_array.shape\n",
    "    # 缓存原始矩阵形状 如 2,3 ! size 返回的是长度\n",
    "    # 扁平化处理\n",
    "    if input_points_array.ndim != 1:\n",
    "        input_points_array = input_points_array.reshape(1,input_points_array.size).squeeze()\n",
    "    \n",
    "    # 扁平化后直接迭代全部,求偏导\n",
    "    grad = np.zeros_like(input_points_array)\n",
    "    for index in range(input_points_array.size):\n",
    "        temp_val = input_points_array[index]\n",
    "        # f(x+h)\n",
    "        input_points_array[index] = temp_val + delta\n",
    "        fv1 = func(input_points_array)\n",
    "\n",
    "        input_points_array[index] = temp_val - delta\n",
    "        fv2 = func(input_points_array)\n",
    "\n",
    "        grad[index] = (fv1 - fv2) / (delta * 2)\n",
    "        input_points_array[index] = temp_val\n",
    "    \n",
    "    # 还原原始维度\n",
    "    input_points_array = input_points_array.reshape(tmp_shape)\n",
    "    grad = grad.reshape(tmp_shape)\n",
    "    return grad\n",
    "numerical_gradient(function2,np.array([3.0,4.0]))"
   ]
  },
  {
   "cell_type": "code",
   "execution_count": 11,
   "metadata": {},
   "outputs": [
    {
     "data": {
      "text/plain": [
       "array([6.11110793e-10, 8.14814391e-10])"
      ]
     },
     "execution_count": 11,
     "metadata": {},
     "output_type": "execute_result"
    }
   ],
   "source": [
    "def gradient_decent(f,init_x,lr=0.1,step_num=100):\n",
    "    x = init_x\n",
    "    for i in range(step_num):\n",
    "        grad = numerical_gradient(f,x)\n",
    "        x -= lr * grad # 梯度下降 \n",
    "    return x\n",
    "\n",
    "input1 = np.array([3.0,4.0])\n",
    "gradient_decent(function2,init_x=input1)"
   ]
  },
  {
   "cell_type": "code",
   "execution_count": null,
   "metadata": {},
   "outputs": [],
   "source": []
  }
 ],
 "metadata": {
  "kernelspec": {
   "display_name": "pytorch",
   "language": "python",
   "name": "python3"
  },
  "language_info": {
   "codemirror_mode": {
    "name": "ipython",
    "version": 3
   },
   "file_extension": ".py",
   "mimetype": "text/x-python",
   "name": "python",
   "nbconvert_exporter": "python",
   "pygments_lexer": "ipython3",
   "version": "3.9.16 (main, Jan 11 2023, 16:16:36) [MSC v.1916 64 bit (AMD64)]"
  },
  "orig_nbformat": 4,
  "vscode": {
   "interpreter": {
    "hash": "240bc028caeb8b02ff80d8aedfc61caf7a0e4db2770780d40c5b717508bae340"
   }
  }
 },
 "nbformat": 4,
 "nbformat_minor": 2
}
