{
 "cells": [
  {
   "cell_type": "code",
   "execution_count": 44,
   "metadata": {},
   "outputs": [],
   "source": [
    "import numpy as np\n",
    "\n",
    "def softmax_function(a):\n",
    "    # 全连接层转概率分布\n",
    "    c = np.max(a)\n",
    "    expa = np.exp(a - c)\n",
    "    # overflow avoid\n",
    "    sum_exp = np.sum(expa)\n",
    "    y = expa / sum_exp\n",
    "    return y\n",
    "\n",
    "def cross_entropy_error(pred,real):\n",
    "    # 就是重点关注 在正确的上面,是不是熵越小\n",
    "    # 还是符合 误差越大,这个数字就越大\n",
    "    # 交叉熵损失函数,用于衡量输入张量和真实张量的差值\n",
    "    delta = 1e-7 # avoid overflow\n",
    "    return -np.sum(real * np.log(pred+delta))\n",
    "\n",
    "def numerical_gradient(func,input_points_array):\n",
    "    # 计算梯度,就是在输入维度的每个维度上求其导数\n",
    "    delta = 1e-4\n",
    "    tmp_shape = input_points_array.shape\n",
    "    # 缓存原始矩阵形状 如 2,3 ! size 返回的是长度\n",
    "    # 扁平化处理\n",
    "    if input_points_array.ndim != 1:\n",
    "        input_points_array = input_points_array.reshape(1,input_points_array.size).squeeze()\n",
    "    \n",
    "    # 扁平化后直接迭代全部,求偏导\n",
    "    grad = np.zeros_like(input_points_array)\n",
    "    for index in range(input_points_array.size):\n",
    "        temp_val = input_points_array[index]\n",
    "        # f(x+h)\n",
    "        input_points_array[index] = temp_val + delta\n",
    "        fv1 = func(input_points_array)\n",
    "\n",
    "        input_points_array[index] = temp_val - delta\n",
    "        fv2 = func(input_points_array)\n",
    "\n",
    "        grad[index] = (fv1 - fv2) / (delta * 2)\n",
    "        input_points_array[index] = temp_val\n",
    "    \n",
    "    # 还原原始维度\n",
    "    input_points_array = input_points_array.reshape(tmp_shape)\n",
    "    grad = grad.reshape(tmp_shape)\n",
    "    return grad"
   ]
  },
  {
   "cell_type": "code",
   "execution_count": 45,
   "metadata": {},
   "outputs": [
    {
     "name": "stdout",
     "output_type": "stream",
     "text": [
      "Predictions : [-1.43840304  0.02013181  2.71470971]\n",
      "[[ 0.0087043   0.0374255  -0.0461298 ]\n",
      " [ 0.01305645  0.05613825 -0.06919471]]\n"
     ]
    }
   ],
   "source": [
    "class simpleNet:\n",
    "    def __init__(self):\n",
    "        # 定义一个 2x3 的矩阵\n",
    "        self.W = np.random.randn(2,3)\n",
    "    def predict(self,x):\n",
    "        return np.dot(x,self.W)\n",
    "    def loss(self,input_array,real):\n",
    "        # real 是one-hot 的概率\n",
    "        z = self.predict(input_array)\n",
    "        y = softmax_function(z) # 向量转概率分布\n",
    "        loss = cross_entropy_error(y,real)\n",
    "        return loss\n",
    "network = simpleNet()\n",
    "input_array = np.array([0.6,0.9])\n",
    "predict = network.predict(input_array)\n",
    "print(\"Predictions :\",predict)\n",
    "np.argmax(predict)\n",
    "real = np.array([0,0,1])\n",
    "network.loss(input_array,real)\n",
    "def f(W):\n",
    "    return network.loss(input_array,real)\n",
    "dW = numerical_gradient(f,network.W)\n",
    "print(dW)"
   ]
  },
  {
   "cell_type": "code",
   "execution_count": null,
   "metadata": {},
   "outputs": [],
   "source": []
  },
  {
   "cell_type": "code",
   "execution_count": null,
   "metadata": {},
   "outputs": [],
   "source": []
  }
 ],
 "metadata": {
  "kernelspec": {
   "display_name": "pytorch",
   "language": "python",
   "name": "python3"
  },
  "language_info": {
   "codemirror_mode": {
    "name": "ipython",
    "version": 3
   },
   "file_extension": ".py",
   "mimetype": "text/x-python",
   "name": "python",
   "nbconvert_exporter": "python",
   "pygments_lexer": "ipython3",
   "version": "3.9.16 (main, Jan 11 2023, 16:16:36) [MSC v.1916 64 bit (AMD64)]"
  },
  "orig_nbformat": 4,
  "vscode": {
   "interpreter": {
    "hash": "240bc028caeb8b02ff80d8aedfc61caf7a0e4db2770780d40c5b717508bae340"
   }
  }
 },
 "nbformat": 4,
 "nbformat_minor": 2
}
