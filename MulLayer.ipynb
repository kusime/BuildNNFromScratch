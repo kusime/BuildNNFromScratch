{
 "cells": [
  {
   "cell_type": "code",
   "execution_count": 12,
   "metadata": {},
   "outputs": [],
   "source": [
    "class MulLayer:\n",
    "    def __init__(self):\n",
    "        self.x = None\n",
    "        self.y = None\n",
    "    \n",
    "    def forward(self, x, y):\n",
    "        # 正向传播\n",
    "        self.x = x\n",
    "        self.y = y\n",
    "        out = self.x * self.y\n",
    "        return out\n",
    "    \n",
    "    def backward(self, dout):\n",
    "        dx = dout * self.y\n",
    "        dy = dout * self.x\n",
    "\n",
    "        return dx,dy"
   ]
  },
  {
   "cell_type": "code",
   "execution_count": 13,
   "metadata": {},
   "outputs": [
    {
     "name": "stdout",
     "output_type": "stream",
     "text": [
      "200 450 650 715.0000000000001\n",
      "650 1.1 1.1 1.1 2.2 110.00000000000001 3.3000000000000003 165.0\n"
     ]
    }
   ],
   "source": [
    "class AddLayer:\n",
    "    def __init__(self):\n",
    "        pass\n",
    "\n",
    "    def forward(self,x,y):\n",
    "        out = x + y\n",
    "        return out\n",
    "\n",
    "    def backward(self,dout):\n",
    "        dx = dout *1\n",
    "        dy = dout *1\n",
    "        \n",
    "        return dx, dy\n",
    "orange_price = 150\n",
    "orange_num = 3\n",
    "apple_price = 100\n",
    "apple_num = 2\n",
    "tax = 1.1\n",
    "\n",
    "#layer\n",
    "apple_num_Layer = MulLayer()\n",
    "orange_num_Layer = MulLayer()\n",
    "apple_orange_Layer = AddLayer()\n",
    "tax_Layer = MulLayer()\n",
    "\n",
    "#forward\n",
    "apple_price = apple_num_Layer.forward(apple_price,apple_num)\n",
    "orange_price = orange_num_Layer.forward(orange_price,orange_num)\n",
    "sum_price = apple_orange_Layer.forward(apple_price,orange_price)\n",
    "final_price = tax_Layer.forward(tax,sum_price)\n",
    "\n",
    "print(apple_price,orange_price,sum_price,final_price)\n",
    "\n",
    "# backward\n",
    "\n",
    "dprice = 1\n",
    "d_tax,d_sum = tax_Layer.backward(dprice)\n",
    "d_a_price,d_o_price = apple_orange_Layer.backward(d_sum)\n",
    "d_a,d_a_num = apple_num_Layer.backward(d_a_price)\n",
    "d_o,d_o_num = orange_num_Layer.backward(d_o_price)\n",
    "print(d_tax,d_sum,d_a_price,d_o_price,d_a,d_a_num,d_o,d_o_num)\n",
    "\n",
    "    "
   ]
  },
  {
   "cell_type": "code",
   "execution_count": null,
   "metadata": {},
   "outputs": [],
   "source": []
  },
  {
   "cell_type": "markdown",
   "metadata": {},
   "source": []
  }
 ],
 "metadata": {
  "kernelspec": {
   "display_name": "pytorch",
   "language": "python",
   "name": "python3"
  },
  "language_info": {
   "codemirror_mode": {
    "name": "ipython",
    "version": 3
   },
   "file_extension": ".py",
   "mimetype": "text/x-python",
   "name": "python",
   "nbconvert_exporter": "python",
   "pygments_lexer": "ipython3",
   "version": "3.9.16"
  },
  "orig_nbformat": 4,
  "vscode": {
   "interpreter": {
    "hash": "240bc028caeb8b02ff80d8aedfc61caf7a0e4db2770780d40c5b717508bae340"
   }
  }
 },
 "nbformat": 4,
 "nbformat_minor": 2
}
